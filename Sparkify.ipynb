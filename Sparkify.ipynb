{
 "cells": [
  {
   "cell_type": "markdown",
   "metadata": {},
   "source": [
    "# Sparkify Project Workspace\n",
    "This workspace contains a tiny subset (128MB) of the full dataset available (12GB). Feel free to use this workspace to build your project, or to explore a smaller subset with Spark before deploying your cluster on the cloud. Instructions for setting up your Spark cluster is included in the last lesson of the Extracurricular Spark Course content.\n",
    "\n",
    "You can follow the steps below to guide your data analysis and model building portion of this project."
   ]
  },
  {
   "cell_type": "code",
   "execution_count": 1,
   "metadata": {},
   "outputs": [
    {
     "data": {
      "text/plain": [
       "0"
      ]
     },
     "execution_count": 1,
     "metadata": {},
     "output_type": "execute_result"
    }
   ],
   "source": [
    "# import libraries\n",
    "import pyspark\n",
    "import numpy as np\n",
    "import seaborn as sns\n",
    "import re\n",
    "import gc\n",
    "from pyspark.sql import SparkSession\n",
    "from pyspark.sql.types import IntegerType, StringType, DoubleType, LongType\n",
    "from pyspark.sql.window import Window\n",
    "#from pyspark.sql.functions import  desc, explode, lit, split, udf, count, avg, col, concat\\\n",
    "#,mean,when,lead,isnan,countDistinct,month,from_unixtime,datediff,to_timestamp\n",
    "#from pyspark.sql.functions import sum as Fsum\n",
    "#from pyspark.sql.functions import max as Fmax\n",
    "import pyspark.sql.functions as F\n",
    "import pyspark.sql.context \n",
    "import pandas as pd\n",
    "import datetime\n",
    "\n",
    "from pyspark.ml import Pipeline\n",
    "from pyspark.ml.classification import LogisticRegression,RandomForestClassifier, GBTClassifier\n",
    "from pyspark.ml.evaluation import BinaryClassificationEvaluator, MulticlassClassificationEvaluator\n",
    "from pyspark.ml.feature import MinMaxScaler, StringIndexer, VectorAssembler\n",
    "from pyspark.ml.tuning import CrossValidator, ParamGridBuilder\n",
    "\n",
    "%matplotlib inline\n",
    "import matplotlib.pyplot as plt\n",
    "gc.collect()"
   ]
  },
  {
   "cell_type": "code",
   "execution_count": 2,
   "metadata": {},
   "outputs": [],
   "source": [
    "# create a Spark session\n",
    "spark = SparkSession.builder \\\n",
    "    .master(\"local\") \\\n",
    "    .appName(\"EDA\") \\\n",
    "    .getOrCreate()"
   ]
  },
  {
   "cell_type": "markdown",
   "metadata": {},
   "source": [
    "# Part 1: Load and Clean Dataset\n",
    "In this workspace, the mini-dataset file is `mini_sparkify_event_data.json`. Load and clean the dataset, checking for invalid or missing data - for example, records without userids or sessionids. "
   ]
  },
  {
   "cell_type": "markdown",
   "metadata": {},
   "source": [
    "## 1.1 Loading the Dataset "
   ]
  },
  {
   "cell_type": "code",
   "execution_count": 3,
   "metadata": {},
   "outputs": [
    {
     "name": "stdout",
     "output_type": "stream",
     "text": [
      "root\n",
      " |-- artist: string (nullable = true)\n",
      " |-- auth: string (nullable = true)\n",
      " |-- firstName: string (nullable = true)\n",
      " |-- gender: string (nullable = true)\n",
      " |-- itemInSession: long (nullable = true)\n",
      " |-- lastName: string (nullable = true)\n",
      " |-- length: double (nullable = true)\n",
      " |-- level: string (nullable = true)\n",
      " |-- location: string (nullable = true)\n",
      " |-- method: string (nullable = true)\n",
      " |-- page: string (nullable = true)\n",
      " |-- registration: long (nullable = true)\n",
      " |-- sessionId: long (nullable = true)\n",
      " |-- song: string (nullable = true)\n",
      " |-- status: long (nullable = true)\n",
      " |-- ts: long (nullable = true)\n",
      " |-- userAgent: string (nullable = true)\n",
      " |-- userId: string (nullable = true)\n",
      "\n"
     ]
    }
   ],
   "source": [
    "df = spark.read.json('mini_sparkify_event_data.json')\n",
    "df.printSchema()"
   ]
  },
  {
   "cell_type": "markdown",
   "metadata": {},
   "source": [
    "## 1.2 Cleaning the Data"
   ]
  },
  {
   "cell_type": "code",
   "execution_count": 4,
   "metadata": {},
   "outputs": [
    {
     "name": "stdout",
     "output_type": "stream",
     "text": [
      "artist : 58392\n",
      "auth : 0\n",
      "firstName : 8346\n",
      "gender : 8346\n",
      "itemInSession : 0\n",
      "lastName : 8346\n",
      "length : 58392\n",
      "level : 0\n",
      "location : 8346\n",
      "method : 0\n",
      "page : 0\n",
      "registration : 8346\n",
      "sessionId : 0\n",
      "song : 58392\n",
      "status : 0\n",
      "ts : 0\n",
      "userAgent : 8346\n",
      "userId : 0\n"
     ]
    }
   ],
   "source": [
    "# Check for null values\n",
    "for col in df.columns:\n",
    "    print(str(col) + ' : ' + str(df.filter(df[col].isNull()).count()))"
   ]
  },
  {
   "cell_type": "code",
   "execution_count": 5,
   "metadata": {},
   "outputs": [
    {
     "name": "stdout",
     "output_type": "stream",
     "text": [
      "sessionId : 0\n",
      "userId : 8346\n"
     ]
    }
   ],
   "source": [
    "# Check count of blank user IDs and Session IDs\n",
    "for col in df['sessionId','userId'].columns:\n",
    "    print(str(col) + ' : ' + str(df.filter(df[col]=='').count()))"
   ]
  },
  {
   "cell_type": "code",
   "execution_count": 6,
   "metadata": {},
   "outputs": [],
   "source": [
    "# Filter out the rows with blank User IDs\n",
    "df = df.filter(df['userId']!='')"
   ]
  },
  {
   "cell_type": "code",
   "execution_count": 7,
   "metadata": {},
   "outputs": [
    {
     "data": {
      "text/plain": [
       "225"
      ]
     },
     "execution_count": 7,
     "metadata": {},
     "output_type": "execute_result"
    }
   ],
   "source": [
    "# Final User ID count\n",
    "df.select('userId').distinct().count()"
   ]
  },
  {
   "cell_type": "code",
   "execution_count": 8,
   "metadata": {},
   "outputs": [],
   "source": [
    "# Convert the UNIX millisecond timestamp to datetime\n",
    "to_date = udf(lambda x: datetime.datetime.fromtimestamp(x/1000.0) \\\n",
    "             .strftime(\"%Y-%m-%d\"))\n",
    "\n",
    "df = df.withColumn('ts_date', to_date('ts'))\n",
    "df = df.withColumn('ts_registration', to_date('registration'))"
   ]
  },
  {
   "cell_type": "markdown",
   "metadata": {},
   "source": [
    "# Part 2: Exploratory Data Analysis\n",
    "When you're working with the full dataset, perform EDA by loading a small subset of the data and doing basic manipulations within Spark. In this workspace, you are already provided a small subset of data you can explore.\n",
    "\n",
    "## 2.1 Define Churn\n",
    "\n",
    "Once you've done some preliminary analysis, create a column `Churn` to use as the label for your model. I suggest using the `Cancellation Confirmation` events to define your churn, which happen for both paid and free users. As a bonus task, you can also look into the `Downgrade` events."
   ]
  },
  {
   "cell_type": "code",
   "execution_count": 9,
   "metadata": {},
   "outputs": [],
   "source": [
    "# Users who cancelled subscription\n",
    "churn_event = udf(lambda x: 1 if x == 'Cancellation Confirmation' else 0, IntegerType())\n",
    "df = df.withColumn('churn_event', churn_event('page'))"
   ]
  },
  {
   "cell_type": "code",
   "execution_count": 10,
   "metadata": {},
   "outputs": [],
   "source": [
    "# Users who downgraded\n",
    "downgrade_event = udf(lambda x: 1 if x == 'Downgrade' else 0, IntegerType())\n",
    "df = df.withColumn('downgrade_event', downgrade_event('page'))"
   ]
  },
  {
   "cell_type": "code",
   "execution_count": 11,
   "metadata": {},
   "outputs": [
    {
     "name": "stdout",
     "output_type": "stream",
     "text": [
      "Count of Churned Users: 52\n",
      "Churn Rate: 0.2311111111111111\n"
     ]
    }
   ],
   "source": [
    "# Check the distribution of churned users\n",
    "print('Count of Churned Users: ' \\\n",
    "      + str(df.filter(df.page == 'Cancellation Confirmation').select('userId').distinct().count()))\n",
    "print('Churn Rate: ' \\\n",
    "      + str(df.filter(df.page == 'Cancellation Confirmation').select('userId').distinct().count() / \\\n",
    "           df.select('userId').distinct().count()))"
   ]
  },
  {
   "cell_type": "code",
   "execution_count": 12,
   "metadata": {},
   "outputs": [
    {
     "name": "stdout",
     "output_type": "stream",
     "text": [
      "Count of Downgraded Users: 154\n",
      "Downgrade Rate: 0.6844444444444444\n"
     ]
    }
   ],
   "source": [
    "# Check the distribution of downgraded users\n",
    "print('Count of Downgraded Users: ' \\\n",
    "      + str(df.filter(df.page == 'Downgrade').select('userId').distinct().count()))\n",
    "print('Downgrade Rate: ' \\\n",
    "      + str(df.filter(df.page == 'Downgrade').select('userId').distinct().count() / \\\n",
    "           df.select('userId').distinct().count()))"
   ]
  },
  {
   "cell_type": "markdown",
   "metadata": {},
   "source": [
    "I will define 'Churn' as the users who cancelled subscription, specifically any user who had a 'Cancellation Confirmation' in their session data. \n",
    "Downgrade events maybe worth adding as a feature to predict churn. Those users who downgraded their subscription might be strong candidates to churn, but we can explore that further.  "
   ]
  },
  {
   "cell_type": "markdown",
   "metadata": {},
   "source": [
    "## 2.2 Explore Data\n",
    "Once you've defined churn, perform some exploratory data analysis to observe the behavior for users who stayed vs users who churned. You can start by exploring aggregates on these two groups of users, observing how much of a specific action they experienced per a certain time unit or number of songs played."
   ]
  },
  {
   "cell_type": "code",
   "execution_count": 13,
   "metadata": {},
   "outputs": [
    {
     "data": {
      "text/plain": [
       "225"
      ]
     },
     "execution_count": 13,
     "metadata": {},
     "output_type": "execute_result"
    }
   ],
   "source": [
    "# Create a user-level dataset with userId and churn / downgrade markers\n",
    "df_user = df.groupBy('userId').agg({'churn_event':'max', 'downgrade_event':'max'}) \\\n",
    "            .withColumnRenamed('max(churn_event)', 'churn') \\\n",
    "            .withColumnRenamed('max(downgrade_event)', 'downgrade') \n",
    "\n",
    "df_user.count()"
   ]
  },
  {
   "cell_type": "markdown",
   "metadata": {},
   "source": [
    "### 2.2.1 Initial Data Exploration\n",
    "Join some existing fields into the user dataset, and add some features that we can explore by churn status."
   ]
  },
  {
   "cell_type": "code",
   "execution_count": 14,
   "metadata": {},
   "outputs": [
    {
     "data": {
      "text/plain": [
       "DataFrame[userId: string, gender: string, location: string]"
      ]
     },
     "execution_count": 14,
     "metadata": {},
     "output_type": "execute_result"
    }
   ],
   "source": [
    "df.select('userId','gender','location').distinct()"
   ]
  },
  {
   "cell_type": "code",
   "execution_count": 15,
   "metadata": {},
   "outputs": [],
   "source": [
    "# Join Gender & Location data to user data\n",
    "df_demogs = df.select('userId','gender','location','level').distinct()\n",
    "df_user = df_user.join(df_demogs, on='userId')"
   ]
  },
  {
   "cell_type": "code",
   "execution_count": 16,
   "metadata": {},
   "outputs": [],
   "source": [
    "# Get the state information from the location field\n",
    "df_user = df_user.withColumn('state', split(df_user.location,',').getItem(1))"
   ]
  },
  {
   "cell_type": "code",
   "execution_count": 17,
   "metadata": {},
   "outputs": [],
   "source": [
    "# Function to plot churn rates by another variable\n",
    "def compare_plot(df_user,col):\n",
    "    '''\n",
    "    Plots visual comparison for binary variables \n",
    "    Input:\n",
    "    df: pyspark dataframe \n",
    "    col: columns to plot \n",
    "    '''\n",
    "    xtab = df_user.select('userId','churn',col).toPandas()\n",
    "    xtab = xtab.groupby([col,'churn']).count().reset_index()\n",
    "    xtab = pd.crosstab(xtab[col], xtab.churn, xtab.userId, aggfunc='sum', normalize = 'index')\n",
    "    \n",
    "    xtab.plot.bar(stacked=True)\n",
    "    plt.xticks(rotation=360)\n",
    "    plt.legend(bbox_to_anchor=(1, 1.05), title = 'Churn')\n",
    "    plt.title('Churn % by ' + str(col))\n",
    "    print(xtab)\n",
    "    plt.show()\n",
    "    \n",
    "def compare_multicat_plot(df_user,col):\n",
    "    '''\n",
    "    Plots visual comparison for multicategory variables \n",
    "    Input:\n",
    "    df: pyspark dataframe \n",
    "    col: columns to plot \n",
    "    '''\n",
    "    xtab = df_user.select('userId','churn',col).toPandas()\n",
    "    \n",
    "    fig = plt.figure(figsize=(16,8))\n",
    "    ax = fig.gca()\n",
    "    sns.countplot(x = col,hue = 'churn',data = xtab)\n",
    "    plt.xticks(rotation=90)\n",
    "    plt.legend(bbox_to_anchor=(1, 1.05), title = 'Churn')\n",
    "    plt.title('Churn Count by ' + str(col))\n",
    "    print(xtab)\n",
    "    plt.show()"
   ]
  },
  {
   "cell_type": "code",
   "execution_count": 18,
   "metadata": {
    "scrolled": true
   },
   "outputs": [
    {
     "name": "stdout",
     "output_type": "stream",
     "text": [
      "churn          0         1\n",
      "gender                    \n",
      "F       0.803571  0.196429\n",
      "M       0.744792  0.255208\n"
     ]
    },
    {
     "data": {
      "image/png": "[encoded data removed]",
      "text/plain": [
       "<matplotlib.figure.Figure at 0x7f488ff65128>"
      ]
     },
     "metadata": {
      "needs_background": "light"
     },
     "output_type": "display_data"
    }
   ],
   "source": [
    "compare_plot(df_user, 'gender')"
   ]
  },
  {
   "cell_type": "code",
   "execution_count": 19,
   "metadata": {},
   "outputs": [
    {
     "name": "stdout",
     "output_type": "stream",
     "text": [
      "churn         0         1\n",
      "level                    \n",
      "free   0.764103  0.235897\n",
      "paid   0.781818  0.218182\n"
     ]
    },
    {
     "data": {
      "image/png": "[encoded data removed]",
      "text/plain": [
       "<matplotlib.figure.Figure at 0x7f488cd71390>"
      ]
     },
     "metadata": {
      "needs_background": "light"
     },
     "output_type": "display_data"
    }
   ],
   "source": [
    "compare_plot(df_user, 'level')"
   ]
  },
  {
   "cell_type": "code",
   "execution_count": 20,
   "metadata": {},
   "outputs": [
    {
     "name": "stdout",
     "output_type": "stream",
     "text": [
      "churn             0         1\n",
      "downgrade                    \n",
      "0          0.772152  0.227848\n",
      "1          0.772242  0.227758\n"
     ]
    },
    {
     "data": {
      "image/png": "[encoded data removed]",
      "text/plain": [
       "<matplotlib.figure.Figure at 0x7f488ccd6fd0>"
      ]
     },
     "metadata": {
      "needs_background": "light"
     },
     "output_type": "display_data"
    }
   ],
   "source": [
    "compare_plot(df_user, 'downgrade')"
   ]
  },
  {
   "cell_type": "code",
   "execution_count": 21,
   "metadata": {
    "scrolled": true
   },
   "outputs": [
    {
     "name": "stdout",
     "output_type": "stream",
     "text": [
      "     userId  churn         state\n",
      "0    100010      0            CT\n",
      "1    200002      0      IL-IN-WI\n",
      "2    200002      0      IL-IN-WI\n",
      "3       125      1            TX\n",
      "4       124      0            NJ\n",
      "5        51      1            KY\n",
      "6         7      0            WA\n",
      "7        15      0            WV\n",
      "8        54      1            WA\n",
      "9        54      1            WA\n",
      "10      155      0         MA-NH\n",
      "11      155      0         MA-NH\n",
      "12   100014      1      NY-NJ-PA\n",
      "13      132      0            CO\n",
      "14      132      0            CO\n",
      "15      154      0      NY-NJ-PA\n",
      "16      101      1            CO\n",
      "17      101      1            CO\n",
      "18       11      0         RI-MA\n",
      "19       11      0         RI-MA\n",
      "20      138      0      NY-NJ-PA\n",
      "21      138      0      NY-NJ-PA\n",
      "22   300017      0            MI\n",
      "23   100021      1            TX\n",
      "24       29      1            CA\n",
      "25       29      1            CA\n",
      "26       69      0            WI\n",
      "27       69      0            WI\n",
      "28      112      0            IN\n",
      "29       42      0            VA\n",
      "..      ...    ...           ...\n",
      "330      91      0            CT\n",
      "331      91      0            CT\n",
      "332      94      0         NE-IA\n",
      "333     137      0      NY-NJ-PA\n",
      "334     137      0      NY-NJ-PA\n",
      "335      72      0            FL\n",
      "336      74      0            FL\n",
      "337      74      0            FL\n",
      "338  300016      0         MN-WI\n",
      "339  300016      0         MN-WI\n",
      "340     151      0   DC-VA-MD-WV\n",
      "341  200015      1            CA\n",
      "342     129      1            MI\n",
      "343     129      1            MI\n",
      "344      76      0            CA\n",
      "345       2      0            NC\n",
      "346  100002      0            CA\n",
      "347  100018      0            TX\n",
      "348  100018      0            TX\n",
      "349      80      0            CA\n",
      "350     145      0            PA\n",
      "351      50      0            IA\n",
      "352      50      0            IA\n",
      "353      45      0            GA\n",
      "354      45      0            GA\n",
      "355      57      0            CA\n",
      "356  200021      1            MI\n",
      "357  200021      1            MI\n",
      "358     119      0         NC-SC\n",
      "359  100001      1            FL\n",
      "\n",
      "[360 rows x 3 columns]\n"
     ]
    },
    {
     "data": {
      "image/png": "[encoded data removed]",
      "text/plain": [
       "<matplotlib.figure.Figure at 0x7f488ccda470>"
      ]
     },
     "metadata": {
      "needs_background": "light"
     },
     "output_type": "display_data"
    }
   ],
   "source": [
    "compare_multicat_plot(df_user, 'state')"
   ]
  },
  {
   "cell_type": "markdown",
   "metadata": {},
   "source": [
    "### Findings: \n",
    "\n",
    "For gender it appears that males have a higher tendency to churn compared to females. \n",
    "\n",
    "Those in the free tier have a slightly higher tendency to churn than those in the paid tier.\n",
    "\n",
    "Interestingly, it doe not look like those who downgraded subscription have a higher tendency to churn versus those who did not downgrade. \n",
    "\n",
    "As for state, it is very difficult to see the pattern at there is a very small sample size and a lot of states. The highest churn count come from California where there is also a relatively higher concentration of subscribers. "
   ]
  },
  {
   "cell_type": "markdown",
   "metadata": {},
   "source": [
    "# Feature Engineering\n",
    "Once you've familiarized yourself with the data, build out the features you find promising to train your model on. To work with the full dataset, you can follow the following steps.\n",
    "- Write a script to extract the necessary features from the smaller subset of data\n",
    "- Ensure that your script is scalable, using the best practices discussed in Lesson 3\n",
    "- Try your script on the full data set, debugging your script if necessary\n",
    "\n",
    "If you are working in the classroom workspace, you can just extract features based on the small subset of data contained here. Be sure to transfer over this work to the larger dataset when you work on your Spark cluster."
   ]
  },
  {
   "cell_type": "markdown",
   "metadata": {},
   "source": [
    "### Candidate Features:\n",
    "\n",
    "1. Total sessions in a week\n",
    "2. Total number of songs listened to\n",
    "3. Total number of artists listened to\n",
    "4. Number of thumbs up\n",
    "5. Number of thumbs down\n",
    "6. Number of friend requests sent\n",
    "7. Number of add to playlist\n",
    "8. Number of songs played in a session\n",
    "9. Average session length\n",
    "10. Average Gap (number of days) in between visit\n",
    "11. Days from registration date"
   ]
  },
  {
   "cell_type": "code",
   "execution_count": 22,
   "metadata": {},
   "outputs": [],
   "source": [
    "# Number of songs listened to\n",
    "song_count = df.groupBy('userId').agg(countDistinct('song')).withColumnRenamed('count(DISTINCT song)','song_count')\n",
    "# Number of artists listened to\n",
    "artist_count = df.groupBy('userId').agg(countDistinct('artist')).withColumnRenamed('count(DISTINCT artist)','artist_count')"
   ]
  },
  {
   "cell_type": "code",
   "execution_count": 23,
   "metadata": {},
   "outputs": [],
   "source": [
    "# Function to count number of instances depending on the page action\n",
    "def count_page(df, condition):\n",
    "    filter_str = 'page == \"' + condition + '\"'\n",
    "    return df.filter(filter_str).groupBy('userId').count()\n",
    "    \n",
    "page_thumbsup = count_page(df, 'Thumbs Up').withColumnRenamed('count','thumbsup_count')\n",
    "page_thumbsdown = count_page(df, 'Thumbs Down').withColumnRenamed('count','thumbsdown_count')\n",
    "page_addfriend = count_page(df, 'Add Friend').withColumnRenamed('count','addfriend_count')\n",
    "page_addplaylist = count_page(df, 'Add to Playlist').withColumnRenamed('count','addplaylist_count')\n",
    "page_error = count_page(df, 'Error').withColumnRenamed('count','pageerror_count')\n",
    "page_upgrade = count_page(df, 'Upgrade').withColumnRenamed('count','upgrade_count')\n",
    "page_nextsong = count_page(df, 'NextSong').withColumnRenamed('count','nextsong_count')\n",
    "page_help = count_page(df, 'Help').withColumnRenamed('count','help_count')\n",
    "page_rolladvert = count_page(df, 'Roll Advert').withColumnRenamed('count','rolladvert_count')"
   ]
  },
  {
   "cell_type": "code",
   "execution_count": 24,
   "metadata": {},
   "outputs": [],
   "source": [
    "# Average Session Length\n",
    "avg_session_length = df.groupBy('userId').mean('length').withColumnRenamed('avg(length)','avg_session_length')"
   ]
  },
  {
   "cell_type": "code",
   "execution_count": 25,
   "metadata": {},
   "outputs": [],
   "source": [
    "# Total sessions in a week\n",
    "session_wk = df.groupBy('userId').agg(F.min('ts_date'), F.max('ts_date'), F.countDistinct('sessionId')) \\\n",
    "            .withColumnRenamed('min(ts_date)', 'min_ts_date') \\\n",
    "            .withColumnRenamed('max(ts_date)', 'max_ts_date') \\\n",
    "            .withColumnRenamed('count(DISTINCT sessionId)', 'total_sessions')\n",
    "\n",
    "def calc_sessions_wk(session_wk, max_date, min_date, all_sessions):\n",
    "    return F.when(datediff(session_wk[max_date], session_wk[min_date]) == 0, session_wk[all_sessions] / 7) \\\n",
    "    .otherwise((session_wk[all_sessions] / datediff(session_wk[max_date], session_wk[min_date])) * 7)\n",
    "\n",
    "session_wk = session_wk.withColumn('avg_sessions_wk', calc_sessions_wk(session_wk, 'max_ts_date', 'min_ts_date', 'total_sessions'))"
   ]
  },
  {
   "cell_type": "code",
   "execution_count": 26,
   "metadata": {},
   "outputs": [],
   "source": [
    "# Calculate visit gap\n",
    "\n",
    "# For each user, get all the dates that they had any session (ts_date)\n",
    "# Create a date_next session by shifting the index of the date_session column\n",
    "# Subtract date_next_session - ts_date except when date_next_session is null (gap)\n",
    "user_by_session = df.select('userId', 'ts_date').distinct().sort(['userId', 'ts_date'])\n",
    "user_by_session = user_by_session.withColumn('date_next_session',lead('ts_date',1)\\\n",
    "                .over(Window.partitionBy('userId').orderBy('ts_date'))) \\\n",
    "                .filter(F.col('date_next_session').isNotNull())\n",
    "\n",
    "# Get the average gap per user\n",
    "user_by_session = user_by_session.withColumn('gap', datediff(F.col('date_next_session'), F.col('ts_date')))\n",
    "user_by_session = user_by_session.groupBy('userId').mean('gap').withColumnRenamed('avg(gap)', 'avg_session_gap')"
   ]
  },
  {
   "cell_type": "code",
   "execution_count": 27,
   "metadata": {},
   "outputs": [],
   "source": [
    "# Days from registration date\n",
    "\n",
    "# For each user, get the max ts_date\n",
    "user_by_registration = df.select('userId','ts_registration', 'ts_date').distinct().sort('userId',desc('ts_date'))\n",
    "user_by_registration = user_by_registration.toPandas()\n",
    "user_by_registration = user_by_registration.drop_duplicates(subset=['userId','ts_registration'], keep='first', inplace=False)\n",
    "user_by_registration = spark.createDataFrame(user_by_registration)\n",
    "user_by_registration = user_by_registration.withColumn('days_from_reg', datediff('ts_date','ts_registration'))"
   ]
  },
  {
   "cell_type": "code",
   "execution_count": 28,
   "metadata": {},
   "outputs": [],
   "source": [
    "# Convert gender and level to int to be used for modeling\n",
    "\n",
    "# Gender to int\n",
    "int_gender = udf(lambda x: 1 if x == 'F' else 0, IntegerType())\n",
    "df_user = df_user.withColumn('int_gender',int_gender('gender'))\n",
    "gender_int = df_user.groupBy('userId').agg(F.max('int_gender')).withColumnRenamed('max(int_gender)','gender')\n",
    "\n",
    "# Level to int\n",
    "int_level = udf(lambda x: 1 if x == 'paid' else 0, IntegerType())\n",
    "df = df.withColumn('int_level',int_level('level'))\n",
    "level_int = df.groupBy('userId').agg(F.max('int_level')).withColumnRenamed('max(int_level)','level')"
   ]
  },
  {
   "cell_type": "markdown",
   "metadata": {},
   "source": [
    "### Merging everything into one Spark dataframe for modeling:"
   ]
  },
  {
   "cell_type": "code",
   "execution_count": 29,
   "metadata": {},
   "outputs": [],
   "source": [
    "# Create a new user_df only including the userId and all relevant features for modeling\n",
    "df_user = df_user.select(['userId','churn','downgrade']) "
   ]
  },
  {
   "cell_type": "code",
   "execution_count": 30,
   "metadata": {},
   "outputs": [],
   "source": [
    "# Merge all the features\n",
    "df_user = df_user.join(gender_int, 'userId') \\\n",
    ".join(level_int, 'userId') \\\n",
    ".join(song_count, 'userId') \\\n",
    ".join(artist_count, 'userId') \\\n",
    ".join(page_thumbsup, 'userId') \\\n",
    ".join(page_thumbsdown, 'userId') \\\n",
    ".join(page_addfriend, 'userId') \\\n",
    ".join(page_addplaylist, 'userId') \\\n",
    ".join(page_error, 'userId') \\\n",
    ".join(page_upgrade, 'userId') \\\n",
    ".join(page_nextsong, 'userId') \\\n",
    ".join(page_help, 'userId') \\\n",
    ".join(page_rolladvert, 'userId') \\\n",
    ".join(avg_session_length, 'userId') \\\n",
    ".join(session_wk, 'userId') \\\n",
    ".join(user_by_session, 'userId') \\\n",
    ".join(user_by_registration, 'userId') "
   ]
  },
  {
   "cell_type": "code",
   "execution_count": 31,
   "metadata": {},
   "outputs": [],
   "source": [
    "# Drop some of the variables we won't be needing for modeling\n",
    "columns_to_drop = ['min_ts_date', 'max_ts_date', 'ts_registration', 'ts_date']\n",
    "df_user = df_user.drop(*columns_to_drop)"
   ]
  },
  {
   "cell_type": "code",
   "execution_count": 32,
   "metadata": {
    "scrolled": true
   },
   "outputs": [
    {
     "name": "stdout",
     "output_type": "stream",
     "text": [
      "root\n",
      " |-- userId: string (nullable = true)\n",
      " |-- churn: integer (nullable = true)\n",
      " |-- downgrade: integer (nullable = true)\n",
      " |-- gender: integer (nullable = true)\n",
      " |-- level: integer (nullable = true)\n",
      " |-- song_count: long (nullable = false)\n",
      " |-- artist_count: long (nullable = false)\n",
      " |-- thumbsup_count: long (nullable = false)\n",
      " |-- thumbsdown_count: long (nullable = false)\n",
      " |-- addfriend_count: long (nullable = false)\n",
      " |-- addplaylist_count: long (nullable = false)\n",
      " |-- pageerror_count: long (nullable = false)\n",
      " |-- upgrade_count: long (nullable = false)\n",
      " |-- nextsong_count: long (nullable = false)\n",
      " |-- help_count: long (nullable = false)\n",
      " |-- rolladvert_count: long (nullable = false)\n",
      " |-- avg_session_length: double (nullable = true)\n",
      " |-- total_sessions: long (nullable = false)\n",
      " |-- avg_sessions_wk: double (nullable = true)\n",
      " |-- avg_session_gap: double (nullable = true)\n",
      " |-- days_from_reg: integer (nullable = true)\n",
      "\n"
     ]
    }
   ],
   "source": [
    "df_user.printSchema()"
   ]
  },
  {
   "cell_type": "markdown",
   "metadata": {},
   "source": [
    "# Modeling\n",
    "Split the full dataset into train, test, and validation sets. Test out several of the machine learning methods you learned. Evaluate the accuracy of the various models, tuning parameters as necessary. Determine your winning model based on test accuracy and report results on the validation set. Since the churned users are a fairly small subset, I suggest using F1 score as the metric to optimize."
   ]
  },
  {
   "cell_type": "markdown",
   "metadata": {},
   "source": [
    "### Split into train and test set"
   ]
  },
  {
   "cell_type": "code",
   "execution_count": 33,
   "metadata": {},
   "outputs": [],
   "source": [
    "df_user = df_user.drop('userId')\n",
    "features = [col for col in df_user.columns if col != 'churn'] \n",
    "train, test = df_user.randomSplit([0.7, 0.3], seed=13)\n",
    "train = train.cache()"
   ]
  },
  {
   "cell_type": "markdown",
   "metadata": {},
   "source": [
    "### Create the model pipeline"
   ]
  },
  {
   "cell_type": "code",
   "execution_count": 34,
   "metadata": {},
   "outputs": [],
   "source": [
    "def model_pipeline(classifier, params):\n",
    "    \"\"\"\n",
    "    Function to build a model pipeline \n",
    "    Input:\n",
    "    classifier: type of classifier\n",
    "    params: param grid\n",
    "    Output:\n",
    "    ML pipeline model\n",
    "    \"\"\"\n",
    "    assembler = VectorAssembler(inputCols=features, outputCol='features')\n",
    "    scaler = MinMaxScaler(inputCol='features', outputCol='scaled_features')\n",
    "    pipeline = Pipeline(stages=[assembler, scaler, classifier])\n",
    "\n",
    "    model = CrossValidator(\n",
    "        estimator=pipeline,\n",
    "        estimatorParamMaps=params,\n",
    "        evaluator = MulticlassClassificationEvaluator(labelCol='churn', metricName='f1'),\n",
    "        numFolds=3,\n",
    "    )\n",
    "    return model"
   ]
  },
  {
   "cell_type": "markdown",
   "metadata": {},
   "source": [
    "### Model 1: Logistic Regression"
   ]
  },
  {
   "cell_type": "code",
   "execution_count": 35,
   "metadata": {},
   "outputs": [],
   "source": [
    "model1 = LogisticRegression(featuresCol=\"scaled_features\", labelCol=\"churn\")\n",
    "model1_param = ParamGridBuilder().build()\n",
    "model_lr = model_pipeline(model1, model1_param)"
   ]
  },
  {
   "cell_type": "code",
   "execution_count": 36,
   "metadata": {},
   "outputs": [],
   "source": [
    "fit_model_lr = model_lr.fit(train)"
   ]
  },
  {
   "cell_type": "code",
   "execution_count": 37,
   "metadata": {},
   "outputs": [],
   "source": [
    "pred_lr = fit_model_lr.transform(test)"
   ]
  },
  {
   "cell_type": "code",
   "execution_count": 38,
   "metadata": {},
   "outputs": [
    {
     "name": "stdout",
     "output_type": "stream",
     "text": [
      "f1 using Logistic Regression: 0.8181818181818181\n"
     ]
    }
   ],
   "source": [
    "pred_lr.select(\"prediction\").dropDuplicates().collect()\n",
    "evaluator = MulticlassClassificationEvaluator(predictionCol=\"prediction\", labelCol=\"churn\")\n",
    "f1_score = evaluator.evaluate(pred_lr, {evaluator.metricName: \"f1\"})\n",
    "print(\"f1 using Logistic Regression: {}\".format(f1_score))"
   ]
  },
  {
   "cell_type": "markdown",
   "metadata": {},
   "source": [
    "### Model 2: Random Forest"
   ]
  },
  {
   "cell_type": "code",
   "execution_count": 39,
   "metadata": {},
   "outputs": [],
   "source": [
    "model2 = RandomForestClassifier(featuresCol=\"scaled_features\", labelCol=\"churn\")\n",
    "model2_param = ParamGridBuilder().build()\n",
    "model_rf = model_pipeline(model2, model2_param)"
   ]
  },
  {
   "cell_type": "code",
   "execution_count": 40,
   "metadata": {},
   "outputs": [],
   "source": [
    "fit_model_rf = model_rf.fit(train)"
   ]
  },
  {
   "cell_type": "code",
   "execution_count": 41,
   "metadata": {},
   "outputs": [],
   "source": [
    "pred_rf = fit_model_rf.transform(test)"
   ]
  },
  {
   "cell_type": "code",
   "execution_count": 42,
   "metadata": {},
   "outputs": [
    {
     "name": "stdout",
     "output_type": "stream",
     "text": [
      "f1 using Random Forest: 0.8781818181818183\n"
     ]
    }
   ],
   "source": [
    "pred_rf.select(\"prediction\").dropDuplicates().collect()\n",
    "evaluator = MulticlassClassificationEvaluator(predictionCol=\"prediction\", labelCol=\"churn\")\n",
    "f1_score = evaluator.evaluate(pred_rf, {evaluator.metricName: \"f1\"})\n",
    "print(\"f1 using Random Forest: {}\".format(f1_score))"
   ]
  },
  {
   "cell_type": "markdown",
   "metadata": {},
   "source": [
    "### Model 3: Gradient Boosting Trees (GBT)"
   ]
  },
  {
   "cell_type": "code",
   "execution_count": 43,
   "metadata": {},
   "outputs": [],
   "source": [
    "model3 = GBTClassifier(featuresCol=\"scaled_features\", labelCol=\"churn\")\n",
    "model3_param = ParamGridBuilder().build()\n",
    "model_gbt = model_pipeline(model3, model3_param)"
   ]
  },
  {
   "cell_type": "code",
   "execution_count": 44,
   "metadata": {},
   "outputs": [],
   "source": [
    "fit_model_gbt = model_gbt.fit(train)"
   ]
  },
  {
   "cell_type": "code",
   "execution_count": 45,
   "metadata": {},
   "outputs": [],
   "source": [
    "pred_gbt = fit_model_gbt.transform(test)"
   ]
  },
  {
   "cell_type": "code",
   "execution_count": 46,
   "metadata": {},
   "outputs": [
    {
     "name": "stdout",
     "output_type": "stream",
     "text": [
      "f1 using Gradient Boosting Trees: 0.8876321353065539\n"
     ]
    }
   ],
   "source": [
    "pred_gbt.select(\"prediction\").dropDuplicates().collect()\n",
    "evaluator = MulticlassClassificationEvaluator(predictionCol=\"prediction\", labelCol=\"churn\")\n",
    "f1_score = evaluator.evaluate(pred_gbt, {evaluator.metricName: \"f1\"})\n",
    "print(\"f1 using Gradient Boosting Trees: {}\".format(f1_score))"
   ]
  },
  {
   "cell_type": "markdown",
   "metadata": {},
   "source": [
    "### Hyperparameter Tuning of the best model"
   ]
  },
  {
   "cell_type": "code",
   "execution_count": 51,
   "metadata": {},
   "outputs": [],
   "source": [
    "gbt = GBTClassifier(featuresCol=\"scaled_features\", labelCol=\"churn\")\n",
    "paramGrid_gbt = ParamGridBuilder() \\\n",
    "    .addGrid(gbt.maxDepth, [2, 5, 10]) \\\n",
    "    .addGrid(gbt.maxIter, [10, 100]) \\\n",
    "    .build()\n",
    "model_tuned = model_pipeline(gbt, paramGrid_gbt)"
   ]
  },
  {
   "cell_type": "code",
   "execution_count": null,
   "metadata": {},
   "outputs": [],
   "source": [
    "fit_model_tuned = model_tuned.fit(train)                                       \n",
    "best_model = fit_model_tuned.bestModel\n",
    "best_model_pred = best_model.transform(test)"
   ]
  },
  {
   "cell_type": "code",
   "execution_count": null,
   "metadata": {},
   "outputs": [],
   "source": [
    "evaluator = MulticlassClassificationEvaluator(predictionCol=\"prediction\", labelCol=\"churn\")\n",
    "best_f1_score = evaluator.evaluate(best_model_pred, {evaluator.metricName: \"f1\"})\n",
    "print(\"f1 using tuned GBT: {}\".format(best_f1_score))"
   ]
  },
  {
   "cell_type": "markdown",
   "metadata": {},
   "source": [
    "### Feature Importance Ranking"
   ]
  },
  {
   "cell_type": "code",
   "execution_count": null,
   "metadata": {},
   "outputs": [],
   "source": [
    "best_model.featureImportances()"
   ]
  },
  {
   "cell_type": "markdown",
   "metadata": {},
   "source": [
    "# Final Steps\n",
    "Clean up your code, adding comments and renaming variables to make the code easier to read and maintain. Refer to the Spark Project Overview page and Data Scientist Capstone Project Rubric to make sure you are including all components of the capstone project and meet all expectations. Remember, this includes thorough documentation in a README file in a Github repository, as well as a web app or blog post."
   ]
  },
  {
   "cell_type": "code",
   "execution_count": null,
   "metadata": {},
   "outputs": [],
   "source": []
  }
 ],
 "metadata": {
  "kernelspec": {
   "display_name": "Python 3",
   "language": "python",
   "name": "python3"
  },
  "language_info": {
   "codemirror_mode": {
    "name": "ipython",
    "version": 3
   },
   "file_extension": ".py",
   "mimetype": "text/x-python",
   "name": "python",
   "nbconvert_exporter": "python",
   "pygments_lexer": "ipython3",
   "version": "3.6.3"
  }
 },
 "nbformat": 4,
 "nbformat_minor": 2
}

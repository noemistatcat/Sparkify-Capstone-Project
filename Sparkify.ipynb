{
 "cells": [
  {
   "cell_type": "markdown",
   "metadata": {},
   "source": [
    "# Sparkify Project Workspace\n",
    "This workspace contains a tiny subset (128MB) of the full dataset available (12GB). Feel free to use this workspace to build your project, or to explore a smaller subset with Spark before deploying your cluster on the cloud. Instructions for setting up your Spark cluster is included in the last lesson of the Extracurricular Spark Course content.\n",
    "\n",
    "You can follow the steps below to guide your data analysis and model building portion of this project."
   ]
  },
  {
   "cell_type": "code",
   "execution_count": 17,
   "metadata": {},
   "outputs": [
    {
     "data": {
      "text/plain": [
       "11"
      ]
     },
     "execution_count": 17,
     "metadata": {},
     "output_type": "execute_result"
    }
   ],
   "source": [
    "# import libraries\n",
    "import pyspark\n",
    "import numpy as np\n",
    "import seaborn as sns\n",
    "import re\n",
    "import gc\n",
    "from pyspark.sql import SparkSession\n",
    "from pyspark.sql.types import IntegerType,StringType,DoubleType, LongType\n",
    "from pyspark.sql.window import Window\n",
    "from pyspark.sql.functions import  desc, explode, lit, split, udf,count, avg, col, concat\\\n",
    ",mean,when,lead,isnan,countDistinct,month,from_unixtime,datediff,to_timestamp\n",
    "from pyspark.sql.functions import sum as Fsum\n",
    "from pyspark.sql.functions import max as Fmax\n",
    "import pyspark.sql.functions as F\n",
    "import pandas as pd\n",
    "import scipy.stats as stats\n",
    "\n",
    "from pyspark.ml import Pipeline\n",
    "from pyspark.ml.classification import LogisticRegression,RandomForestClassifier, GBTClassifier, DecisionTreeClassifier\n",
    "from pyspark.ml.evaluation import BinaryClassificationEvaluator, MulticlassClassificationEvaluator\n",
    "from pyspark.ml.feature import MinMaxScaler, StringIndexer, VectorAssembler\n",
    "from pyspark.ml.tuning import CrossValidator, ParamGridBuilder\n",
    "\n",
    "%matplotlib inline\n",
    "import matplotlib.pyplot as plt\n",
    "gc.collect()"
   ]
  },
  {
   "cell_type": "code",
   "execution_count": 18,
   "metadata": {},
   "outputs": [],
   "source": [
    "# create a Spark session\n",
    "spark = SparkSession.builder \\\n",
    "    .master(\"local\") \\\n",
    "    .appName(\"EDA\") \\\n",
    "    .getOrCreate()"
   ]
  },
  {
   "cell_type": "markdown",
   "metadata": {},
   "source": [
    "# Part 1: Load and Clean Dataset\n",
    "In this workspace, the mini-dataset file is `mini_sparkify_event_data.json`. Load and clean the dataset, checking for invalid or missing data - for example, records without userids or sessionids. "
   ]
  },
  {
   "cell_type": "markdown",
   "metadata": {},
   "source": [
    "## 1.1 Loading the Dataset "
   ]
  },
  {
   "cell_type": "code",
   "execution_count": 19,
   "metadata": {},
   "outputs": [
    {
     "name": "stdout",
     "output_type": "stream",
     "text": [
      "root\n",
      " |-- artist: string (nullable = true)\n",
      " |-- auth: string (nullable = true)\n",
      " |-- firstName: string (nullable = true)\n",
      " |-- gender: string (nullable = true)\n",
      " |-- itemInSession: long (nullable = true)\n",
      " |-- lastName: string (nullable = true)\n",
      " |-- length: double (nullable = true)\n",
      " |-- level: string (nullable = true)\n",
      " |-- location: string (nullable = true)\n",
      " |-- method: string (nullable = true)\n",
      " |-- page: string (nullable = true)\n",
      " |-- registration: long (nullable = true)\n",
      " |-- sessionId: long (nullable = true)\n",
      " |-- song: string (nullable = true)\n",
      " |-- status: long (nullable = true)\n",
      " |-- ts: long (nullable = true)\n",
      " |-- userAgent: string (nullable = true)\n",
      " |-- userId: string (nullable = true)\n",
      "\n"
     ]
    }
   ],
   "source": [
    "df = spark.read.json('mini_sparkify_event_data.json')\n",
    "df.printSchema()"
   ]
  },
  {
   "cell_type": "markdown",
   "metadata": {},
   "source": [
    "## 1.2 Cleaning the Data"
   ]
  },
  {
   "cell_type": "code",
   "execution_count": 20,
   "metadata": {},
   "outputs": [
    {
     "name": "stdout",
     "output_type": "stream",
     "text": [
      "artist : 58392\n",
      "auth : 0\n",
      "firstName : 8346\n",
      "gender : 8346\n",
      "itemInSession : 0\n",
      "lastName : 8346\n",
      "length : 58392\n",
      "level : 0\n",
      "location : 8346\n",
      "method : 0\n",
      "page : 0\n",
      "registration : 8346\n",
      "sessionId : 0\n",
      "song : 58392\n",
      "status : 0\n",
      "ts : 0\n",
      "userAgent : 8346\n",
      "userId : 0\n"
     ]
    }
   ],
   "source": [
    "# Check for null values\n",
    "for col in df.columns:\n",
    "    print(str(col) + ' : ' + str(df.filter(df[col].isNull()).count()))"
   ]
  },
  {
   "cell_type": "code",
   "execution_count": 21,
   "metadata": {},
   "outputs": [
    {
     "name": "stdout",
     "output_type": "stream",
     "text": [
      "sessionId : 0\n",
      "userId : 8346\n"
     ]
    }
   ],
   "source": [
    "# Check count of blank user IDs and Session IDs\n",
    "for col in df['sessionId','userId'].columns:\n",
    "    print(str(col) + ' : ' + str(df.filter(df[col]=='').count()))"
   ]
  },
  {
   "cell_type": "code",
   "execution_count": 22,
   "metadata": {},
   "outputs": [],
   "source": [
    "# Filter out the rows with blank User IDs\n",
    "df = df.filter(df['userId']!='')"
   ]
  },
  {
   "cell_type": "code",
   "execution_count": 23,
   "metadata": {},
   "outputs": [
    {
     "data": {
      "text/plain": [
       "225"
      ]
     },
     "execution_count": 23,
     "metadata": {},
     "output_type": "execute_result"
    }
   ],
   "source": [
    "# Final User ID count\n",
    "df.select('userId').distinct().count()"
   ]
  },
  {
   "cell_type": "markdown",
   "metadata": {},
   "source": [
    "# Part 2: Exploratory Data Analysis\n",
    "When you're working with the full dataset, perform EDA by loading a small subset of the data and doing basic manipulations within Spark. In this workspace, you are already provided a small subset of data you can explore.\n",
    "\n",
    "## 2.1 Define Churn\n",
    "\n",
    "Once you've done some preliminary analysis, create a column `Churn` to use as the label for your model. I suggest using the `Cancellation Confirmation` events to define your churn, which happen for both paid and free users. As a bonus task, you can also look into the `Downgrade` events."
   ]
  },
  {
   "cell_type": "code",
   "execution_count": 48,
   "metadata": {},
   "outputs": [],
   "source": [
    "# Users who cancelled subscription\n",
    "churn_event = udf(lambda x: 1 if x == 'Cancellation Confirmation' else 0, IntegerType())\n",
    "df = df.withColumn('churn_event', churn_event('page'))"
   ]
  },
  {
   "cell_type": "code",
   "execution_count": 49,
   "metadata": {},
   "outputs": [],
   "source": [
    "# Users who downgraded\n",
    "downgrade_event = udf(lambda x: 1 if x == 'Downgrade' else 0, IntegerType())\n",
    "df = df.withColumn('downgrade_event', downgrade_event('page'))"
   ]
  },
  {
   "cell_type": "code",
   "execution_count": 37,
   "metadata": {},
   "outputs": [
    {
     "name": "stdout",
     "output_type": "stream",
     "text": [
      "Count of Churned Users: 52\n",
      "Churn Rate: 0.2311111111111111\n"
     ]
    }
   ],
   "source": [
    "# Check the distribution of churned users\n",
    "print('Count of Churned Users: ' \\\n",
    "      + str(df.filter(df.page == 'Cancellation Confirmation').select('userId').distinct().count()))\n",
    "print('Churn Rate: ' \\\n",
    "      + str(df.filter(df.page == 'Cancellation Confirmation').select('userId').distinct().count() / \\\n",
    "           df.select('userId').distinct().count()))"
   ]
  },
  {
   "cell_type": "code",
   "execution_count": 36,
   "metadata": {},
   "outputs": [
    {
     "name": "stdout",
     "output_type": "stream",
     "text": [
      "Count of Downgraded Users: 154\n",
      "Downgrade Rate: 0.6844444444444444\n"
     ]
    }
   ],
   "source": [
    "# Check the distribution of downgraded users\n",
    "print('Count of Downgraded Users: ' \\\n",
    "      + str(df.filter(df.page == 'Downgrade').select('userId').distinct().count()))\n",
    "print('Downgrade Rate: ' \\\n",
    "      + str(df.filter(df.page == 'Downgrade').select('userId').distinct().count() / \\\n",
    "           df.select('userId').distinct().count()))"
   ]
  },
  {
   "cell_type": "markdown",
   "metadata": {},
   "source": [
    "I will define 'Churn' as the users who cancelled subscription, specifically any user who had a 'Cancellation Confirmation' in their session data. \n",
    "Downgrade events maybe worth adding as a feature to predict churn. Those users who downgraded their subscription might be strong candidates to churn, but we can explore that further.  "
   ]
  },
  {
   "cell_type": "markdown",
   "metadata": {},
   "source": [
    "## 2.2 Explore Data\n",
    "Once you've defined churn, perform some exploratory data analysis to observe the behavior for users who stayed vs users who churned. You can start by exploring aggregates on these two groups of users, observing how much of a specific action they experienced per a certain time unit or number of songs played."
   ]
  },
  {
   "cell_type": "code",
   "execution_count": 53,
   "metadata": {},
   "outputs": [],
   "source": [
    "# Create a user-level dataset with userId and churn / downgrade markers\n",
    "df_user = df.groupBy('userId').agg({'churn_event':'max', 'downgrade_event':'max'}) \\\n",
    "            .withColumnRenamed('max(churn_event)', 'churn') \\\n",
    "            .withColumnRenamed('max(downgrade_event)', 'downgrade') \n",
    "\n",
    "df_user.count()"
   ]
  },
  {
   "cell_type": "code",
   "execution_count": 62,
   "metadata": {},
   "outputs": [
    {
     "name": "stdout",
     "output_type": "stream",
     "text": [
      "+-------+------------------+\n",
      "|summary|            artist|\n",
      "+-------+------------------+\n",
      "|  count|            228108|\n",
      "|   mean| 551.0852017937219|\n",
      "| stddev|1217.7693079161374|\n",
      "|    min|               !!!|\n",
      "|    max| ÃÂlafur Arnalds|\n",
      "+-------+------------------+\n",
      "\n",
      "+-------+---------+\n",
      "|summary|     auth|\n",
      "+-------+---------+\n",
      "|  count|   278154|\n",
      "|   mean|     null|\n",
      "| stddev|     null|\n",
      "|    min|Cancelled|\n",
      "|    max|Logged In|\n",
      "+-------+---------+\n",
      "\n",
      "+-------+---------+\n",
      "|summary|firstName|\n",
      "+-------+---------+\n",
      "|  count|   278154|\n",
      "|   mean|     null|\n",
      "| stddev|     null|\n",
      "|    min| Adelaida|\n",
      "|    max|   Zyonna|\n",
      "+-------+---------+\n",
      "\n",
      "+-------+------+\n",
      "|summary|gender|\n",
      "+-------+------+\n",
      "|  count|278154|\n",
      "|   mean|  null|\n",
      "| stddev|  null|\n",
      "|    min|     F|\n",
      "|    max|     M|\n",
      "+-------+------+\n",
      "\n",
      "+-------+------------------+\n",
      "|summary|     itemInSession|\n",
      "+-------+------------------+\n",
      "|  count|            278154|\n",
      "|   mean|114.89918174824018|\n",
      "| stddev|  129.851729399489|\n",
      "|    min|                 0|\n",
      "|    max|              1321|\n",
      "+-------+------------------+\n",
      "\n",
      "+-------+--------+\n",
      "|summary|lastName|\n",
      "+-------+--------+\n",
      "|  count|  278154|\n",
      "|   mean|    null|\n",
      "| stddev|    null|\n",
      "|    min|   Adams|\n",
      "|    max|  Wright|\n",
      "+-------+--------+\n",
      "\n",
      "+-------+-----------------+\n",
      "|summary|           length|\n",
      "+-------+-----------------+\n",
      "|  count|           228108|\n",
      "|   mean|249.1171819778458|\n",
      "| stddev|99.23517921058361|\n",
      "|    min|          0.78322|\n",
      "|    max|       3024.66567|\n",
      "+-------+-----------------+\n",
      "\n",
      "+-------+------+\n",
      "|summary| level|\n",
      "+-------+------+\n",
      "|  count|278154|\n",
      "|   mean|  null|\n",
      "| stddev|  null|\n",
      "|    min|  free|\n",
      "|    max|  paid|\n",
      "+-------+------+\n",
      "\n",
      "+-------+-----------------+\n",
      "|summary|         location|\n",
      "+-------+-----------------+\n",
      "|  count|           278154|\n",
      "|   mean|             null|\n",
      "| stddev|             null|\n",
      "|    min|       Albany, OR|\n",
      "|    max|Winston-Salem, NC|\n",
      "+-------+-----------------+\n",
      "\n",
      "+-------+------+\n",
      "|summary|method|\n",
      "+-------+------+\n",
      "|  count|278154|\n",
      "|   mean|  null|\n",
      "| stddev|  null|\n",
      "|    min|   GET|\n",
      "|    max|   PUT|\n",
      "+-------+------+\n",
      "\n",
      "+-------+-------+\n",
      "|summary|   page|\n",
      "+-------+-------+\n",
      "|  count| 278154|\n",
      "|   mean|   null|\n",
      "| stddev|   null|\n",
      "|    min|  About|\n",
      "|    max|Upgrade|\n",
      "+-------+-------+\n",
      "\n",
      "+-------+--------------------+\n",
      "|summary|        registration|\n",
      "+-------+--------------------+\n",
      "|  count|              278154|\n",
      "|   mean|1.535358834084427...|\n",
      "| stddev| 3.291321616327586E9|\n",
      "|    min|       1521380675000|\n",
      "|    max|       1543247354000|\n",
      "+-------+--------------------+\n",
      "\n",
      "+-------+------------------+\n",
      "|summary|         sessionId|\n",
      "+-------+------------------+\n",
      "|  count|            278154|\n",
      "|   mean|1042.5616241362698|\n",
      "| stddev| 726.5010362219813|\n",
      "|    min|                 1|\n",
      "|    max|              2474|\n",
      "+-------+------------------+\n",
      "\n",
      "+-------+--------------------+\n",
      "|summary|                song|\n",
      "+-------+--------------------+\n",
      "|  count|              228108|\n",
      "|   mean|            Infinity|\n",
      "| stddev|                 NaN|\n",
      "|    min|\u001c",
      "ÃÂg ÃÂtti Gr...|\n",
      "|    max|ÃÂau hafa slopp...|\n",
      "+-------+--------------------+\n",
      "\n",
      "+-------+------------------+\n",
      "|summary|            status|\n",
      "+-------+------------------+\n",
      "|  count|            278154|\n",
      "|   mean|209.10321620397335|\n",
      "| stddev|30.151388851328214|\n",
      "|    min|               200|\n",
      "|    max|               404|\n",
      "+-------+------------------+\n",
      "\n",
      "+-------+--------------------+\n",
      "|summary|                  ts|\n",
      "+-------+--------------------+\n",
      "|  count|              278154|\n",
      "|   mean|1.540958915431871...|\n",
      "| stddev|1.5068287123306298E9|\n",
      "|    min|       1538352117000|\n",
      "|    max|       1543799476000|\n",
      "+-------+--------------------+\n",
      "\n",
      "+-------+--------------------+\n",
      "|summary|           userAgent|\n",
      "+-------+--------------------+\n",
      "|  count|              278154|\n",
      "|   mean|                null|\n",
      "| stddev|                null|\n",
      "|    min|\"Mozilla/5.0 (Mac...|\n",
      "|    max|Mozilla/5.0 (comp...|\n",
      "+-------+--------------------+\n",
      "\n",
      "+-------+-----------------+\n",
      "|summary|           userId|\n",
      "+-------+-----------------+\n",
      "|  count|           278154|\n",
      "|   mean|59682.02278593872|\n",
      "| stddev|109091.9499991047|\n",
      "|    min|               10|\n",
      "|    max|               99|\n",
      "+-------+-----------------+\n",
      "\n",
      "+-------+-----------+\n",
      "|summary|churn_event|\n",
      "+-------+-----------+\n",
      "|  count|     278154|\n",
      "|   mean|        0.0|\n",
      "| stddev|        0.0|\n",
      "|    min|          0|\n",
      "|    max|          0|\n",
      "+-------+-----------+\n",
      "\n",
      "+-------+------+\n",
      "|summary| churn|\n",
      "+-------+------+\n",
      "|  count|278154|\n",
      "|   mean|   0.0|\n",
      "| stddev|   0.0|\n",
      "|    min|     0|\n",
      "|    max|     0|\n",
      "+-------+------+\n",
      "\n"
     ]
    }
   ],
   "source": [
    "# Quick descriptives on each of the columns in the dataset\n",
    "for col in df.columns:\n",
    "    df.describe(col).show()"
   ]
  },
  {
   "cell_type": "markdown",
   "metadata": {},
   "source": [
    "# Feature Engineering\n",
    "Once you've familiarized yourself with the data, build out the features you find promising to train your model on. To work with the full dataset, you can follow the following steps.\n",
    "- Write a script to extract the necessary features from the smaller subset of data\n",
    "- Ensure that your script is scalable, using the best practices discussed in Lesson 3\n",
    "- Try your script on the full data set, debugging your script if necessary\n",
    "\n",
    "If you are working in the classroom workspace, you can just extract features based on the small subset of data contained here. Be sure to transfer over this work to the larger dataset when you work on your Spark cluster."
   ]
  },
  {
   "cell_type": "code",
   "execution_count": null,
   "metadata": {},
   "outputs": [],
   "source": []
  },
  {
   "cell_type": "markdown",
   "metadata": {},
   "source": [
    "# Modeling\n",
    "Split the full dataset into train, test, and validation sets. Test out several of the machine learning methods you learned. Evaluate the accuracy of the various models, tuning parameters as necessary. Determine your winning model based on test accuracy and report results on the validation set. Since the churned users are a fairly small subset, I suggest using F1 score as the metric to optimize."
   ]
  },
  {
   "cell_type": "code",
   "execution_count": null,
   "metadata": {},
   "outputs": [],
   "source": []
  },
  {
   "cell_type": "markdown",
   "metadata": {},
   "source": [
    "# Final Steps\n",
    "Clean up your code, adding comments and renaming variables to make the code easier to read and maintain. Refer to the Spark Project Overview page and Data Scientist Capstone Project Rubric to make sure you are including all components of the capstone project and meet all expectations. Remember, this includes thorough documentation in a README file in a Github repository, as well as a web app or blog post."
   ]
  },
  {
   "cell_type": "code",
   "execution_count": null,
   "metadata": {},
   "outputs": [],
   "source": []
  }
 ],
 "metadata": {
  "kernelspec": {
   "display_name": "Python 3",
   "language": "python",
   "name": "python3"
  },
  "language_info": {
   "codemirror_mode": {
    "name": "ipython",
    "version": 3
   },
   "file_extension": ".py",
   "mimetype": "text/x-python",
   "name": "python",
   "nbconvert_exporter": "python",
   "pygments_lexer": "ipython3",
   "version": "3.6.3"
  }
 },
 "nbformat": 4,
 "nbformat_minor": 2
}
